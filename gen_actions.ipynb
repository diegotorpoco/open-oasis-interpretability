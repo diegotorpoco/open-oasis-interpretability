{
 "cells": [
  {
   "cell_type": "code",
   "execution_count": null,
   "metadata": {},
   "outputs": [],
   "source": [
    "import torch"
   ]
  },
  {
   "cell_type": "markdown",
   "metadata": {},
   "source": [
    "# Input example"
   ]
  },
  {
   "cell_type": "markdown",
   "metadata": {},
   "source": [
    "Here I create an action to input the model. I wanted to test how does the input work, in this case you send a list of 32 dictionaries where you can one hot encode the actions you wish to input.\n",
    "\n",
    "For the example I opted to test if I was able to move the camera to the right, the camera value is an length 2 array of x and y movement of the camera."
   ]
  },
  {
   "cell_type": "code",
   "execution_count": 138,
   "metadata": {},
   "outputs": [],
   "source": [
    "n_frames = 32 \n",
    "actions = [] \n",
    "for i in range(n_frames):\n",
    "    action_dict = {'ESC': 0,\n",
    "    'back': 0,\n",
    "    'drop': 0,\n",
    "    'forward': 0,\n",
    "    'hotbar.1': 0,\n",
    "    'hotbar.2': 0,\n",
    "    'hotbar.3': 0,\n",
    "    'hotbar.4': 0,\n",
    "    'hotbar.5': 0,\n",
    "    'hotbar.6': 0,\n",
    "    'hotbar.7': 0,\n",
    "    'hotbar.8': 0,\n",
    "    'hotbar.9': 0,\n",
    "    'inventory': 0,\n",
    "    'jump': 0,\n",
    "    'left': 0,\n",
    "    'right': 0,\n",
    "    'sneak': 0,\n",
    "    'sprint': 0,\n",
    "    'swapHands': 0,\n",
    "    'camera': [40,0],\n",
    "    'attack': 0,\n",
    "    'use': 0,\n",
    "    'pickItem': 0}\n",
    "    actions.append(action_dict)\n",
    "torch.save(actions, 'actions_test.actions.pt')"
   ]
  },
  {
   "cell_type": "markdown",
   "metadata": {},
   "source": [
    "Execute code below to generate video based on the action above. You can also condition the generation of the video based on a image like the one in sample_data format and using the argument --prompt-path."
   ]
  },
  {
   "cell_type": "code",
   "execution_count": 141,
   "metadata": {},
   "outputs": [],
   "source": [
    "!python3 generate.py --oasis-ckpt \\\n",
    "    'path_to_oasis_ckpt' \\\n",
    "    --vae-ckpt \\\n",
    "    'path_to_vae_ckpto' \\    \n",
    "     --actions-path actions_test.actions.pt "
   ]
  },
  {
   "cell_type": "markdown",
   "metadata": {},
   "source": [
    "# Peaking into neurons in DiT\n",
    "work to be done"
   ]
  },
  {
   "cell_type": "code",
   "execution_count": 145,
   "metadata": {},
   "outputs": [],
   "source": [
    "from torch import nn\n",
    "from dit import DiT_models\n",
    "from vae import VAE_models"
   ]
  },
  {
   "cell_type": "code",
   "execution_count": null,
   "metadata": {},
   "outputs": [],
   "source": [
    "model = DiT_models[\"DiT-S/2\"]()"
   ]
  },
  {
   "cell_type": "code",
   "execution_count": null,
   "metadata": {},
   "outputs": [],
   "source": [
    "## get paths to models \n",
    "print(f\"loading Oasis-500M from oasis-ckpt={os.path.abspath(args.oasis_ckpt)}...\")\n",
    "if args.oasis_ckpt.endswith(\".pt\"):\n",
    "    ckpt = torch.load(args.oasis_ckpt, weights_only=True)\n",
    "    model.load_state_dict(ckpt, strict=False)\n",
    "elif args.oasis_ckpt.endswith(\".safetensors\"):\n",
    "    load_model(model, args.oasis_ckpt)\n",
    "model = model.to(device).eval()"
   ]
  }
 ],
 "metadata": {
  "kernelspec": {
   "display_name": "venv",
   "language": "python",
   "name": "python3"
  },
  "language_info": {
   "codemirror_mode": {
    "name": "ipython",
    "version": 3
   },
   "file_extension": ".py",
   "mimetype": "text/x-python",
   "name": "python",
   "nbconvert_exporter": "python",
   "pygments_lexer": "ipython3",
   "version": "3.9.6"
  }
 },
 "nbformat": 4,
 "nbformat_minor": 2
}
